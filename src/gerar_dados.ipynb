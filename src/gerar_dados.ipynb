{
 "cells": [
  {
   "cell_type": "code",
   "execution_count": null,
   "metadata": {},
   "outputs": [],
   "source": [
    "import pandas as pd\n",
    "from datetime import datetime, timedelta\n",
    "import locale\n",
    "import matplotlib.pyplot as plt\n",
    "import numpy as np\n",
    "import seaborn as sns\n",
    "\n",
    "# Configurando o idioma para português do Brasil\n",
    "locale.setlocale(locale.LC_TIME, 'pt_BR.UTF-8')"
   ]
  },
  {
   "cell_type": "markdown",
   "metadata": {},
   "source": [
    "### Funções"
   ]
  },
  {
   "cell_type": "code",
   "execution_count": null,
   "metadata": {},
   "outputs": [],
   "source": [
    "# Função para obter a estação do ano com base no mês\n",
    "def obter_estacao(do_mes):\n",
    "    if 3 <= do_mes <= 5:\n",
    "        return 'Outono'\n",
    "    elif 6 <= do_mes <= 8:\n",
    "        return 'Inverno'\n",
    "    elif 9 <= do_mes <= 11:\n",
    "        return 'Primavera'\n",
    "    else:\n",
    "        return 'Verão'\n",
    "    \n",
    "def gerar_consumo(**kargs) -> pd.DataFrame:\n",
    "    num_linhas = kargs.get('num_linhas', 100)\n",
    "    data_inicial = kargs.get('data_inicial', datetime.now())\n",
    "    data_atual = datetime(data_inicial.year, data_inicial.month, data_inicial.day, data_inicial.hour) \n",
    "    quantidade_de_pessoas = kargs.get('quantidade_de_pessoas', 3)\n",
    "    \n",
    "    np.random.seed(datetime.now().microsecond)\n",
    "    \n",
    "    # Listas para armazenar os dados gerados\n",
    "    anos, meses, dias_da_semana, dias_do_mes, horas = [], [], [], [], [],\n",
    "    estacoes, qtd_pessoas, consumo_agua = [], [], []\n",
    "\n",
    "    # Loop para gerar dados\n",
    "    for _ in range(num_linhas):\n",
    "        anos.append(data_atual.year)\n",
    "        meses.append(data_atual.month)\n",
    "        dias_da_semana.append(data_atual.strftime('%A'))\n",
    "        dias_do_mes.append(data_atual.day)\n",
    "        horas.append(data_atual.hour)\n",
    "        estacoes.append(obter_estacao(data_atual.month))\n",
    "        qtd_pessoas.append(quantidade_de_pessoas)\n",
    "        \n",
    "        if (estacoes[-1] == 'Verão'):\n",
    "            if (dias_da_semana[-1]  == 'Sábado' or dias_da_semana[-1] == 'Domingo'):\n",
    "                if (data_atual.hour >= 6 and data_atual.hour < 18):\n",
    "                    consumo_agua.append(round(np.random.uniform(9, 30), 2))\n",
    "                elif (data_atual.hour >= 18 and data_atual.hour < 21):\n",
    "                    consumo_agua.append(round(np.random.uniform(7, 20), 2))\n",
    "                else:\n",
    "                    consumo_agua.append(round(np.random.uniform(0, 8), 2))\n",
    "            elif (dias_da_semana[-1] == 'Sexta-feira'):\n",
    "                if (data_atual.hour >= 6 and data_atual.hour < 18):\n",
    "                    consumo_agua.append(round(np.random.uniform(7, 25), 2))\n",
    "                elif (data_atual.hour >= 18 and data_atual.hour < 21):\n",
    "                    consumo_agua.append(round(np.random.uniform(7, 30), 2))\n",
    "                else:\n",
    "                    consumo_agua.append(round(np.random.uniform(1, 10), 2))\n",
    "            else:\n",
    "                if (data_atual.hour >= 6 and data_atual.hour < 18):\n",
    "                    consumo_agua.append(round(np.random.uniform(7, 20), 2))\n",
    "                elif (data_atual.hour >= 18 and data_atual.hour < 21):\n",
    "                    consumo_agua.append(round(np.random.uniform(6, 25), 2))\n",
    "                else:\n",
    "                    consumo_agua.append(round(np.random.uniform(2, 8), 2))\n",
    "        else:\n",
    "            if (dias_da_semana[-1]  == 'Sábado' or dias_da_semana[-1] == 'Domingo'):\n",
    "                if (data_atual.hour >= 6 and data_atual.hour < 18):\n",
    "                    consumo_agua.append(round(np.random.uniform(5, 25), 2))\n",
    "                elif (data_atual.hour >= 18 and data_atual.hour < 21):\n",
    "                    consumo_agua.append(round(np.random.uniform(3, 15), 2))\n",
    "                else:\n",
    "                    consumo_agua.append(round(np.random.uniform(0, 8), 2))\n",
    "            elif (dias_da_semana[-1] == 'Sexta-feira'):\n",
    "                if (data_atual.hour >= 6 and data_atual.hour < 18):\n",
    "                    consumo_agua.append(round(np.random.uniform(3, 15), 2))\n",
    "                elif (data_atual.hour >= 18 and data_atual.hour < 21):\n",
    "                    consumo_agua.append(round(np.random.uniform(5, 20), 2))\n",
    "                else:\n",
    "                    consumo_agua.append(round(np.random.uniform(0, 8), 2))\n",
    "            else:\n",
    "                if (data_atual.hour >= 6 and data_atual.hour < 18):\n",
    "                    consumo_agua.append(round(np.random.uniform(5, 15), 2))\n",
    "                elif (data_atual.hour >= 18 and data_atual.hour < 21):\n",
    "                    consumo_agua.append(round(np.random.uniform(5, 20), 2))\n",
    "                else:\n",
    "                    consumo_agua.append(round(np.random.uniform(0, 8), 2))\n",
    "            \n",
    "        # Avança para a próxima hora\n",
    "        data_atual += timedelta(hours=1)\n",
    "        \n",
    "    # Criando um DataFrame com os dados gerados\n",
    "    dados = pd.DataFrame({\n",
    "        'ano': anos,\n",
    "        'mes': meses,\n",
    "        'dia_semana': dias_da_semana,\n",
    "        'dia_mes': dias_do_mes,\n",
    "        'hora': horas,\n",
    "        'estacao': estacoes,\n",
    "        'quantidade_pessoas': qtd_pessoas,\n",
    "        'consumo_agua_m3': consumo_agua\n",
    "    })\n",
    "\n",
    "    return dados"
   ]
  },
  {
   "cell_type": "markdown",
   "metadata": {},
   "source": [
    "### Gerar dados"
   ]
  },
  {
   "cell_type": "code",
   "execution_count": null,
   "metadata": {},
   "outputs": [],
   "source": [
    "# Dados completos com 35040 linhas\n",
    "dados = gerar_consumo(num_linhas=35040, data_inicial=datetime(2020, 1, 1), quantidade_de_pessoas=3)\n",
    "dados.head()"
   ]
  },
  {
   "cell_type": "markdown",
   "metadata": {},
   "source": [
    "### Agregar dados por ano e mês"
   ]
  },
  {
   "cell_type": "code",
   "execution_count": null,
   "metadata": {},
   "outputs": [],
   "source": [
    "# Dados agregados por ano e mês\n",
    "dados_agregados = dados.groupby(['ano', 'mes']).agg({'consumo_agua_m3': 'sum'}).reset_index()\n",
    "dados_agregados.head()"
   ]
  },
  {
   "cell_type": "markdown",
   "metadata": {},
   "source": [
    "### Visualizar dados de 2022 e 2023"
   ]
  },
  {
   "cell_type": "code",
   "execution_count": null,
   "metadata": {},
   "outputs": [],
   "source": [
    "dados_ano_2022 = dados_agregados[dados_agregados['ano'] == 2022]\n",
    "dados_ano_2023 = dados_agregados[dados_agregados['ano'] == 2023]\n",
    "\n",
    "fig, axes = plt.subplots(1, 2, figsize=(15, 5))\n",
    "\n",
    "axes[0].set_title(f'Consumo de água por mês em 2022')\n",
    "sns.barplot(data=dados_ano_2022, x='mes', y='consumo_agua_m3', ax=axes[0])\n",
    "axes[0].set_xlabel('Mês')\n",
    "axes[0].set_ylabel('Consumo de água (m³)')\n",
    "\n",
    "axes[1].set_title(f'Consumo de água por mês em 2023')\n",
    "sns.barplot(data=dados_ano_2023, x='mes', y='consumo_agua_m3', ax=axes[1])\n",
    "axes[1].set_xlabel('Mês')\n",
    "axes[1].set_ylabel('Consumo de água (m³)')\n",
    "\n",
    "plt.show()"
   ]
  },
  {
   "cell_type": "markdown",
   "metadata": {},
   "source": [
    "### Gerar Rótulos"
   ]
  },
  {
   "cell_type": "markdown",
   "metadata": {},
   "source": [
    "##### Função para gerar rotulos"
   ]
  },
  {
   "cell_type": "code",
   "execution_count": null,
   "metadata": {},
   "outputs": [],
   "source": [
    "def pegar_dados_com_rotulo_consumo(\n",
    "    dados: pd.DataFrame, gerar_outliers=False\n",
    ") -> pd.DataFrame:\n",
    "    copia_dados = dados.copy(deep=True)\n",
    "    groupby_list = [\"mes\", \"dia_semana\", \"hora\"]\n",
    "    dados_agrupados = (\n",
    "        copia_dados.groupby(groupby_list)\n",
    "        .agg({\"consumo_agua_m3\": [\"mean\", \"std\"]})\n",
    "        .reset_index()\n",
    "    )\n",
    "    rotulos = []\n",
    "\n",
    "    for _, value in copia_dados.iterrows():\n",
    "        # Pega o mês, dia da semana, hora e consumo\n",
    "        mes, dia_semana, hora = value[\"mes\"], value[\"dia_semana\"], value[\"hora\"]\n",
    "        consumo = value[\"consumo_agua_m3\"]\n",
    "\n",
    "        # Pegando a média e o desvio padrão de consumo de água baseado no mês, dia da semana e hora\n",
    "        media_consumo_m3 = dados_agrupados[\n",
    "            (dados_agrupados[\"mes\"] == mes)\n",
    "            & (dados_agrupados[\"dia_semana\"] == dia_semana)\n",
    "            & (dados_agrupados[\"hora\"] == hora)\n",
    "        ][\"consumo_agua_m3\"][\"mean\"].values[0]\n",
    "        std_consumo_m3 = dados_agrupados[\n",
    "            (dados_agrupados[\"mes\"] == mes)\n",
    "            & (dados_agrupados[\"dia_semana\"] == dia_semana)\n",
    "            & (dados_agrupados[\"hora\"] == hora)\n",
    "        ][\"consumo_agua_m3\"][\"std\"].values[0]\n",
    "\n",
    "        # Pega o limite superior, limiar para alerta de consumo de água.\n",
    "        limite_superior_consumo = std_consumo_m3 * 2 + media_consumo_m3\n",
    "\n",
    "        # Verifica se o consumo é normal ou alto\n",
    "        if consumo > limite_superior_consumo:\n",
    "            rotulos.append(\"Alto\")\n",
    "        else:\n",
    "            # Se gerar_outliers for verdadeiro, gera outliers aleatórios\n",
    "            if gerar_outliers:\n",
    "                np.random.seed(datetime.now().microsecond)\n",
    "                random_number = np.random.randint(1, 3)\n",
    "\n",
    "                if random_number == 1:\n",
    "                    rotulos.append(\"Alto\")\n",
    "                    novo_consumo = round(\n",
    "                        np.random.uniform(\n",
    "                            limite_superior_consumo * 1.5,\n",
    "                            limite_superior_consumo * 2.5,\n",
    "                        ),\n",
    "                        2,\n",
    "                    )\n",
    "                    copia_dados.at[_, \"consumo_agua_m3\"] = novo_consumo\n",
    "                else: \n",
    "                    rotulos.append(\"Normal\")\n",
    "            else:\n",
    "                rotulos.append(\"Normal\")\n",
    "\n",
    "    copia_dados[\"padrao_consumo\"] = rotulos\n",
    "\n",
    "    return copia_dados"
   ]
  },
  {
   "cell_type": "markdown",
   "metadata": {},
   "source": [
    "##### Gerar e visualizar rótulos"
   ]
  },
  {
   "cell_type": "code",
   "execution_count": null,
   "metadata": {},
   "outputs": [],
   "source": [
    "dados_com_rotulo = pegar_dados_com_rotulo_consumo(dados, gerar_outliers=True)\n",
    "dados_com_rotulo.head()"
   ]
  },
  {
   "cell_type": "markdown",
   "metadata": {},
   "source": [
    "##### Visualizar distribuição de frequência"
   ]
  },
  {
   "cell_type": "code",
   "execution_count": null,
   "metadata": {},
   "outputs": [],
   "source": [
    "dados_com_rotulo['padrao_consumo'].value_counts()"
   ]
  },
  {
   "cell_type": "markdown",
   "metadata": {},
   "source": [
    "##### Salvar dados"
   ]
  },
  {
   "cell_type": "code",
   "execution_count": null,
   "metadata": {},
   "outputs": [],
   "source": [
    "dados_com_rotulo.to_csv('../data/dados_consumo_agua.csv', index=False)"
   ]
  }
 ],
 "metadata": {
  "kernelspec": {
   "display_name": "cepedi",
   "language": "python",
   "name": "python3"
  },
  "language_info": {
   "codemirror_mode": {
    "name": "ipython",
    "version": 3
   },
   "file_extension": ".py",
   "mimetype": "text/x-python",
   "name": "python",
   "nbconvert_exporter": "python",
   "pygments_lexer": "ipython3",
   "version": "3.11.5"
  }
 },
 "nbformat": 4,
 "nbformat_minor": 2
}
