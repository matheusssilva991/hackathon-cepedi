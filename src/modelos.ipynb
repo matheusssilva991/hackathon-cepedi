{
 "cells": [
  {
   "cell_type": "markdown",
   "metadata": {},
   "source": [
    "### Importando as bibliotecas e pacotes"
   ]
  },
  {
   "cell_type": "code",
   "execution_count": 18,
   "metadata": {},
   "outputs": [],
   "source": [
    "from sklearn.model_selection import train_test_split, GridSearchCV, cross_val_score\n",
    "from sklearn.ensemble import RandomForestClassifier\n",
    "from sklearn.preprocessing import MinMaxScaler\n",
    "from sklearn.neighbors import NearestNeighbors\n",
    "from sklearn.metrics import confusion_matrix\n",
    "from matplotlib import pyplot as plt\n",
    "from sklearn.svm import SVC\n",
    "import seaborn as sns\n",
    "import pandas as pd\n",
    "import numpy as np"
   ]
  },
  {
   "cell_type": "markdown",
   "metadata": {},
   "source": [
    "### Carregando o dataset"
   ]
  },
  {
   "cell_type": "code",
   "execution_count": 19,
   "metadata": {},
   "outputs": [
    {
     "data": {
      "text/html": [
       "<div>\n",
       "<style scoped>\n",
       "    .dataframe tbody tr th:only-of-type {\n",
       "        vertical-align: middle;\n",
       "    }\n",
       "\n",
       "    .dataframe tbody tr th {\n",
       "        vertical-align: top;\n",
       "    }\n",
       "\n",
       "    .dataframe thead th {\n",
       "        text-align: right;\n",
       "    }\n",
       "</style>\n",
       "<table border=\"1\" class=\"dataframe\">\n",
       "  <thead>\n",
       "    <tr style=\"text-align: right;\">\n",
       "      <th></th>\n",
       "      <th>ano</th>\n",
       "      <th>mes</th>\n",
       "      <th>dia_semana</th>\n",
       "      <th>dia_mes</th>\n",
       "      <th>hora</th>\n",
       "      <th>quantidade_pessoas</th>\n",
       "      <th>consumo_agua_m3</th>\n",
       "      <th>regiao</th>\n",
       "      <th>padrao_consumo</th>\n",
       "    </tr>\n",
       "  </thead>\n",
       "  <tbody>\n",
       "    <tr>\n",
       "      <th>0</th>\n",
       "      <td>2020</td>\n",
       "      <td>1</td>\n",
       "      <td>quarta</td>\n",
       "      <td>1</td>\n",
       "      <td>0</td>\n",
       "      <td>3</td>\n",
       "      <td>0.13</td>\n",
       "      <td>Sul</td>\n",
       "      <td>Normal</td>\n",
       "    </tr>\n",
       "    <tr>\n",
       "      <th>1</th>\n",
       "      <td>2020</td>\n",
       "      <td>1</td>\n",
       "      <td>quarta</td>\n",
       "      <td>1</td>\n",
       "      <td>1</td>\n",
       "      <td>3</td>\n",
       "      <td>0.21</td>\n",
       "      <td>Sul</td>\n",
       "      <td>Normal</td>\n",
       "    </tr>\n",
       "    <tr>\n",
       "      <th>2</th>\n",
       "      <td>2020</td>\n",
       "      <td>1</td>\n",
       "      <td>quarta</td>\n",
       "      <td>1</td>\n",
       "      <td>2</td>\n",
       "      <td>3</td>\n",
       "      <td>0.26</td>\n",
       "      <td>Sul</td>\n",
       "      <td>Normal</td>\n",
       "    </tr>\n",
       "    <tr>\n",
       "      <th>3</th>\n",
       "      <td>2020</td>\n",
       "      <td>1</td>\n",
       "      <td>quarta</td>\n",
       "      <td>1</td>\n",
       "      <td>3</td>\n",
       "      <td>3</td>\n",
       "      <td>0.15</td>\n",
       "      <td>Sul</td>\n",
       "      <td>Normal</td>\n",
       "    </tr>\n",
       "    <tr>\n",
       "      <th>4</th>\n",
       "      <td>2020</td>\n",
       "      <td>1</td>\n",
       "      <td>quarta</td>\n",
       "      <td>1</td>\n",
       "      <td>4</td>\n",
       "      <td>3</td>\n",
       "      <td>0.62</td>\n",
       "      <td>Sul</td>\n",
       "      <td>Alto</td>\n",
       "    </tr>\n",
       "  </tbody>\n",
       "</table>\n",
       "</div>"
      ],
      "text/plain": [
       "    ano  mes dia_semana  dia_mes  hora  quantidade_pessoas  consumo_agua_m3  \\\n",
       "0  2020    1     quarta        1     0                   3             0.13   \n",
       "1  2020    1     quarta        1     1                   3             0.21   \n",
       "2  2020    1     quarta        1     2                   3             0.26   \n",
       "3  2020    1     quarta        1     3                   3             0.15   \n",
       "4  2020    1     quarta        1     4                   3             0.62   \n",
       "\n",
       "  regiao padrao_consumo  \n",
       "0    Sul         Normal  \n",
       "1    Sul         Normal  \n",
       "2    Sul         Normal  \n",
       "3    Sul         Normal  \n",
       "4    Sul           Alto  "
      ]
     },
     "execution_count": 19,
     "metadata": {},
     "output_type": "execute_result"
    }
   ],
   "source": [
    "path = \"../data/dados_consumo_agua.csv\"\n",
    "\n",
    "df_dados_agua = pd.read_csv(path, sep = \",\")\n",
    "df_dados_agua.head()"
   ]
  },
  {
   "cell_type": "markdown",
   "metadata": {},
   "source": [
    "### Diminuindo o peso dos dados"
   ]
  },
  {
   "cell_type": "code",
   "execution_count": null,
   "metadata": {},
   "outputs": [],
   "source": [
    "df_dados_agua[\"ano\"] = df_dados_agua[\"ano\"].astype(\"uint16\")\n",
    "df_dados_agua[\"mes\"] = df_dados_agua[\"mes\"].astype(\"uint8\")"
   ]
  },
  {
   "cell_type": "markdown",
   "metadata": {},
   "source": [
    "### Modificando a coluna *\"dia_semana\"* para manter os dados de forma numérica"
   ]
  },
  {
   "cell_type": "markdown",
   "metadata": {},
   "source": [
    "#### Verificando os valores únicos"
   ]
  },
  {
   "cell_type": "code",
   "execution_count": null,
   "metadata": {},
   "outputs": [],
   "source": [
    "df_dados_agua[\"dia_semana\"].unique()"
   ]
  },
  {
   "cell_type": "markdown",
   "metadata": {},
   "source": [
    "#### Mapeando os novos valores de \"dia_semana\""
   ]
  },
  {
   "cell_type": "code",
   "execution_count": null,
   "metadata": {},
   "outputs": [],
   "source": [
    "dicionario_dia_semana = {\n",
    "    \"domingo\"   : 0,\n",
    "    \"segunda\"   : 1,\n",
    "    \"terça\"     : 2,\n",
    "    \"quarta\"    : 3,\n",
    "    \"quinta\"    : 4,\n",
    "    \"sexta\"     : 5,\n",
    "    \"sábado\"    : 6\n",
    "}\n",
    "\n",
    "df_dados_agua[\"dia_semana\"] = df_dados_agua[\"dia_semana\"].map(dicionario_dia_semana)\n",
    "df_dados_agua[\"dia_semana\"] = df_dados_agua[\"dia_semana\"].astype(\"uint8\")"
   ]
  },
  {
   "cell_type": "markdown",
   "metadata": {},
   "source": [
    "### Modificando as outras colunas do dataset"
   ]
  },
  {
   "cell_type": "code",
   "execution_count": null,
   "metadata": {},
   "outputs": [],
   "source": [
    "# dropando coluna \"dia_mes\" por redundancia\n",
    "df_dados_agua.drop(columns = [\"dia_mes\"], axis = \"columns\", inplace = True)\n",
    "\n",
    "df_dados_agua[\"hora\"] = df_dados_agua[\"hora\"].astype(\"uint8\")\n",
    "df_dados_agua[\"quantidade_pessoas\"] = df_dados_agua[\"quantidade_pessoas\"].astype(\"uint8\")\n",
    "df_dados_agua[\"consumo_agua_m3\"] = df_dados_agua[\"consumo_agua_m3\"].astype(\"float32\")"
   ]
  },
  {
   "cell_type": "markdown",
   "metadata": {},
   "source": [
    "### Modificando as colunas *\"regiao\"* e *\"padrao_consumo\"* para manter os dados de forma numérica"
   ]
  },
  {
   "cell_type": "markdown",
   "metadata": {},
   "source": [
    "#### Verificando os valores únicos"
   ]
  },
  {
   "cell_type": "code",
   "execution_count": null,
   "metadata": {},
   "outputs": [],
   "source": [
    "print(f\"Valores únicos da coluna ---regiao--- : {df_dados_agua.regiao.unique()} \\n\")\n",
    "print(f\"Valores únicos da coluna ---padrao_consumo--- : {df_dados_agua.padrao_consumo.unique()}\")"
   ]
  },
  {
   "cell_type": "markdown",
   "metadata": {},
   "source": [
    "#### Mapeando os novos valores de *\"padrao_consumo\"* e excluindo a coluna *\"regiao\"*"
   ]
  },
  {
   "cell_type": "code",
   "execution_count": null,
   "metadata": {},
   "outputs": [],
   "source": [
    "# dropando coluna \"regiao\" por possuir um unico valor\n",
    "df_dados_agua.drop(columns = [\"regiao\"], axis = \"columns\", inplace = True)\n",
    "\n",
    "dicionario_padrao_consumo = {\n",
    "    \"Normal\" : 0,\n",
    "    \"Alto\" : 1\n",
    "}\n",
    "\n",
    "df_dados_agua[\"padrao_consumo\"] = df_dados_agua[\"padrao_consumo\"].map(dicionario_padrao_consumo)\n",
    "df_dados_agua[\"padrao_consumo\"] = df_dados_agua[\"padrao_consumo\"].astype(\"uint8\")"
   ]
  },
  {
   "cell_type": "markdown",
   "metadata": {},
   "source": [
    "### Como ficaram os dados:"
   ]
  },
  {
   "cell_type": "code",
   "execution_count": null,
   "metadata": {},
   "outputs": [],
   "source": [
    "df_dados_agua.info()"
   ]
  },
  {
   "cell_type": "markdown",
   "metadata": {},
   "source": [
    "## EDA"
   ]
  },
  {
   "cell_type": "markdown",
   "metadata": {},
   "source": [
    "### Valor máximo, Valor mínimo, Média, Mediana, Desvio padrão"
   ]
  },
  {
   "cell_type": "code",
   "execution_count": null,
   "metadata": {},
   "outputs": [],
   "source": [
    "print(\"Valores máximos:\\n\")\n",
    "for column in df_dados_agua.columns:\n",
    "    print(f\"Coluna {column}: {df_dados_agua[column].max()}\")\n",
    "    \n",
    "print(\"\\n\\nValores mínimos:\\n\")\n",
    "for column in df_dados_agua.columns:\n",
    "    print(f\"Coluna {column}: {df_dados_agua[column].min()}\")\n",
    "    \n",
    "print(\"\\n\\nMédia dos valores:\\n\")\n",
    "for column in df_dados_agua.columns:\n",
    "    print(f\"Coluna {column}: {df_dados_agua[column].mean()}\")\n",
    "    \n",
    "print(\"\\n\\nMediana dos valores:\\n\")\n",
    "for column in df_dados_agua.columns:\n",
    "    print(f\"Coluna {column}: {df_dados_agua[column].median()}\")\n",
    "    \n",
    "print(\"\\n\\nDesvio padrão dos valores:\\n\")\n",
    "for column in df_dados_agua.columns:\n",
    "    print(f\"Coluna {column}: {df_dados_agua[column].std()}\")"
   ]
  },
  {
   "cell_type": "markdown",
   "metadata": {},
   "source": [
    "### Correlação entre as colunas"
   ]
  },
  {
   "cell_type": "code",
   "execution_count": null,
   "metadata": {},
   "outputs": [],
   "source": [
    "df_correlacao = df_dados_agua.corr()\n",
    "df_correlacao"
   ]
  },
  {
   "cell_type": "markdown",
   "metadata": {},
   "source": [
    "### Matriz de correlação - Heatmap"
   ]
  },
  {
   "cell_type": "code",
   "execution_count": null,
   "metadata": {},
   "outputs": [],
   "source": [
    "figure = plt.figure(figsize = (14, 12))\n",
    "sns.heatmap(data = df_correlacao)\n",
    "plt.show()"
   ]
  },
  {
   "cell_type": "markdown",
   "metadata": {},
   "source": [
    "## Separando as features do target"
   ]
  },
  {
   "cell_type": "code",
   "execution_count": null,
   "metadata": {},
   "outputs": [],
   "source": [
    "scaler = MinMaxScaler()\n",
    "\n",
    "scaled_df = pd.DataFrame(\n",
    "    scaler.fit_transform(\n",
    "        df_dados_agua\n",
    "        .drop(columns = [\"quantidade_pessoas\"])\n",
    "        .to_numpy()\n",
    "    ),\n",
    "    columns = [\"ano\", \"mes\", \"dia_semana\", \"hora\", \"consumo_agua_m3\", \"padrao_consumo\"]\n",
    ")\n",
    "\n",
    "scaled_df"
   ]
  },
  {
   "cell_type": "code",
   "execution_count": null,
   "metadata": {},
   "outputs": [],
   "source": [
    "X = scaled_df.values\n",
    "y = scaled_df[\"padrao_consumo\"].values.reshape(-1, 1)"
   ]
  },
  {
   "cell_type": "markdown",
   "metadata": {},
   "source": [
    "## Divisão treino-teste"
   ]
  },
  {
   "cell_type": "code",
   "execution_count": null,
   "metadata": {},
   "outputs": [],
   "source": [
    "tamanho_corte = 0.4\n",
    "semente = 42\n",
    "x_train, x_test, y_train, y_test = train_test_split(X, y, test_size = tamanho_corte, random_state = semente)"
   ]
  },
  {
   "cell_type": "markdown",
   "metadata": {},
   "source": [
    "## RandomForestClassifier"
   ]
  },
  {
   "cell_type": "markdown",
   "metadata": {},
   "source": [
    "### Criando o modelo RandomForest"
   ]
  },
  {
   "cell_type": "code",
   "execution_count": null,
   "metadata": {},
   "outputs": [],
   "source": [
    "modelo_random_forest = RandomForestClassifier()"
   ]
  },
  {
   "cell_type": "markdown",
   "metadata": {},
   "source": [
    "### Parametros para o RandomForest"
   ]
  },
  {
   "cell_type": "code",
   "execution_count": null,
   "metadata": {},
   "outputs": [],
   "source": [
    "dicionario_random_forest = {\n",
    "    \"n_estimators\"      : np.arange(10, 110, 10),# de 10 a 100\n",
    "    \"criterion\"         : [\"gini\", \"entropy\", \"log_loss\"],\n",
    "    \"max_depth\"         : np.arange(2, 8, 1),# de 2 a 7\n",
    "    \"min_samples_split\" : np.arange(2, 11, 1),# de 2 a 10\n",
    "    \"min_samples_leaf\"  : np.arange(1, 6, 1),# de 1 a 5\n",
    "    \"max_features\"      : [\"sqrt\", \"log2\", None],\n",
    "    \"max_leaf_nodes\"    : [5, 10, 15, 20, None],\n",
    "    \"n_jobs\"            : [-1],\n",
    "    \"random_state\"      : [semente]\n",
    "}"
   ]
  },
  {
   "cell_type": "markdown",
   "metadata": {},
   "source": [
    "### Utilizando o GridSearchCV"
   ]
  },
  {
   "cell_type": "code",
   "execution_count": null,
   "metadata": {},
   "outputs": [],
   "source": [
    "grid_search_randomForest = GridSearchCV(\n",
    "    estimator = modelo_random_forest,\n",
    "    param_grid = dicionario_random_forest,\n",
    "    cv = 5\n",
    ")"
   ]
  },
  {
   "cell_type": "markdown",
   "metadata": {},
   "source": [
    "### Treinando o GridSearch para obter os melhores parâmetros"
   ]
  },
  {
   "cell_type": "code",
   "execution_count": null,
   "metadata": {},
   "outputs": [],
   "source": [
    "grid_search_randomForest.fit(x_train, y_train.ravel())\n",
    "grid_search_randomForest.best_params_"
   ]
  },
  {
   "cell_type": "markdown",
   "metadata": {},
   "source": [
    "### Imprimindo o Score do melhor modelo"
   ]
  },
  {
   "cell_type": "code",
   "execution_count": null,
   "metadata": {},
   "outputs": [],
   "source": [
    "grid_search_randomForest.score(x_train, y_train)"
   ]
  },
  {
   "cell_type": "markdown",
   "metadata": {},
   "source": [
    "## KNN"
   ]
  },
  {
   "cell_type": "markdown",
   "metadata": {},
   "source": [
    "### Criando o modelo KNN"
   ]
  },
  {
   "cell_type": "code",
   "execution_count": null,
   "metadata": {},
   "outputs": [],
   "source": [
    "modelo_knn = NearestNeighbors()"
   ]
  },
  {
   "cell_type": "markdown",
   "metadata": {},
   "source": [
    "### Parametros para o KNN"
   ]
  },
  {
   "cell_type": "code",
   "execution_count": null,
   "metadata": {},
   "outputs": [],
   "source": [
    "dicionario_knn = {\n",
    "    \"n_neighbors\" : np.arange(3, 17, 2),# de 3 a 15\n",
    "    \"radius\"      : np.arange(1.0, 3.5, 0.5),# de 1.0 a 3.0\n",
    "    \"p\"           : np.arange(1.0, 2.1, 0.1),# de 1.0 a 2.0\n",
    "    \"n_jobs\"      : [-1]\n",
    "}"
   ]
  },
  {
   "cell_type": "markdown",
   "metadata": {},
   "source": [
    "### Utilizando o GridSearchCV"
   ]
  },
  {
   "cell_type": "code",
   "execution_count": null,
   "metadata": {},
   "outputs": [],
   "source": [
    "grid_search_KNN = GridSearchCV(\n",
    "    estimator = modelo_knn,\n",
    "    param_grid = dicionario_knn,\n",
    "    cv = 5\n",
    ")"
   ]
  },
  {
   "cell_type": "markdown",
   "metadata": {},
   "source": [
    "### Treinando o GridSearch para obter os melhores parâmetros"
   ]
  },
  {
   "cell_type": "code",
   "execution_count": null,
   "metadata": {},
   "outputs": [],
   "source": [
    "grid_search_KNN.fit(x_train, y_train.ravel())\n",
    "grid_search_KNN.best_params_"
   ]
  },
  {
   "cell_type": "markdown",
   "metadata": {},
   "source": [
    "### Imprimindo o Score do melhor modelo"
   ]
  },
  {
   "cell_type": "code",
   "execution_count": null,
   "metadata": {},
   "outputs": [],
   "source": [
    "grid_search_KNN.score(x_train, y_train)"
   ]
  },
  {
   "cell_type": "markdown",
   "metadata": {},
   "source": [
    "## SVC"
   ]
  },
  {
   "cell_type": "markdown",
   "metadata": {},
   "source": [
    "### Criando o modelo SVM"
   ]
  },
  {
   "cell_type": "code",
   "execution_count": null,
   "metadata": {},
   "outputs": [],
   "source": [
    "modelo_svc = SVC()"
   ]
  },
  {
   "cell_type": "markdown",
   "metadata": {},
   "source": [
    "### Parametros para o SVM"
   ]
  },
  {
   "cell_type": "code",
   "execution_count": null,
   "metadata": {},
   "outputs": [],
   "source": [
    "dicionario_svc = {\n",
    "    \"C\"                         : np.logspace(-3, 3, 7),\n",
    "    \"kernel\"                    : [\"linear\", \"poly\", \"rbf\", \"sigmoid\"],\n",
    "    \"degree\"                    : np.arange(1, 6, 1),\n",
    "    \"tol\"                       : np.logspace(-5, -1, 5),\n",
    "    \"max_iter\"                  : [100, 200, 300, 400, 500, 600, -1],\n",
    "    \"decision_function_shape\"   : [\"ovr\", \"ovo\"],\n",
    "    \"random_state\"              :  [semente]\n",
    "}"
   ]
  },
  {
   "cell_type": "markdown",
   "metadata": {},
   "source": [
    "### Utilizando o GridSearchCV"
   ]
  },
  {
   "cell_type": "code",
   "execution_count": null,
   "metadata": {},
   "outputs": [],
   "source": [
    "grid_search_svc = GridSearchCV(\n",
    "    estimator = modelo_svc,\n",
    "    param_grid = dicionario_svc,\n",
    "    cv = 5\n",
    ")"
   ]
  },
  {
   "cell_type": "markdown",
   "metadata": {},
   "source": [
    "### Treinando o GridSearch para obter os melhores parâmetros"
   ]
  },
  {
   "cell_type": "code",
   "execution_count": null,
   "metadata": {},
   "outputs": [],
   "source": [
    "grid_search_svc.fit(x_train, y_train.ravel())\n",
    "grid_search_svc.best_params_"
   ]
  },
  {
   "cell_type": "markdown",
   "metadata": {},
   "source": [
    "### Imprimindo o Score do melhor modelo"
   ]
  },
  {
   "cell_type": "code",
   "execution_count": null,
   "metadata": {},
   "outputs": [],
   "source": [
    "grid_search_svc.score(x_train, y_train)"
   ]
  }
 ],
 "metadata": {
  "kernelspec": {
   "display_name": ".cepedi-venv",
   "language": "python",
   "name": "python3"
  },
  "language_info": {
   "codemirror_mode": {
    "name": "ipython",
    "version": 3
   },
   "file_extension": ".py",
   "mimetype": "text/x-python",
   "name": "python",
   "nbconvert_exporter": "python",
   "pygments_lexer": "ipython3",
   "version": "3.11.5"
  }
 },
 "nbformat": 4,
 "nbformat_minor": 2
}
