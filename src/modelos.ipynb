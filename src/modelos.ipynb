{
 "cells": [
  {
   "cell_type": "markdown",
   "metadata": {},
   "source": [
    "### Importando as bibliotecas e pacotes\n"
   ]
  },
  {
   "cell_type": "code",
   "execution_count": 1,
   "metadata": {},
   "outputs": [],
   "source": [
    "from sklearn.model_selection import train_test_split, GridSearchCV\n",
    "from sklearn.ensemble import RandomForestClassifier\n",
    "from sklearn.preprocessing import StandardScaler, LabelEncoder\n",
    "from sklearn.neighbors import KNeighborsClassifier\n",
    "from sklearn.svm import SVC\n",
    "from imblearn.under_sampling import RandomUnderSampler\n",
    "from sklearn.metrics import accuracy_score, precision_score, recall_score, f1_score\n",
    "from joblib import dump\n",
    "import pandas as pd\n",
    "import numpy as np\n",
    "import pickle"
   ]
  },
  {
   "cell_type": "markdown",
   "metadata": {},
   "source": [
    "### Carregando e visualizando o dataset\n"
   ]
  },
  {
   "cell_type": "code",
   "execution_count": 2,
   "metadata": {},
   "outputs": [
    {
     "data": {
      "text/html": [
       "<div>\n",
       "<style scoped>\n",
       "    .dataframe tbody tr th:only-of-type {\n",
       "        vertical-align: middle;\n",
       "    }\n",
       "\n",
       "    .dataframe tbody tr th {\n",
       "        vertical-align: top;\n",
       "    }\n",
       "\n",
       "    .dataframe thead th {\n",
       "        text-align: right;\n",
       "    }\n",
       "</style>\n",
       "<table border=\"1\" class=\"dataframe\">\n",
       "  <thead>\n",
       "    <tr style=\"text-align: right;\">\n",
       "      <th></th>\n",
       "      <th>ano</th>\n",
       "      <th>mes</th>\n",
       "      <th>dia</th>\n",
       "      <th>hora</th>\n",
       "      <th>quantidade_pessoas</th>\n",
       "      <th>cidade</th>\n",
       "      <th>bairro</th>\n",
       "      <th>consumo_agua_m3</th>\n",
       "      <th>padrao_consumo</th>\n",
       "    </tr>\n",
       "  </thead>\n",
       "  <tbody>\n",
       "    <tr>\n",
       "      <th>0</th>\n",
       "      <td>2020</td>\n",
       "      <td>1</td>\n",
       "      <td>Quarta</td>\n",
       "      <td>0</td>\n",
       "      <td>3</td>\n",
       "      <td>Joinville</td>\n",
       "      <td>Centro</td>\n",
       "      <td>0.040009</td>\n",
       "      <td>Normal</td>\n",
       "    </tr>\n",
       "    <tr>\n",
       "      <th>1</th>\n",
       "      <td>2020</td>\n",
       "      <td>1</td>\n",
       "      <td>Quarta</td>\n",
       "      <td>1</td>\n",
       "      <td>3</td>\n",
       "      <td>Joinville</td>\n",
       "      <td>Centro</td>\n",
       "      <td>0.260010</td>\n",
       "      <td>Normal</td>\n",
       "    </tr>\n",
       "    <tr>\n",
       "      <th>2</th>\n",
       "      <td>2020</td>\n",
       "      <td>1</td>\n",
       "      <td>Quarta</td>\n",
       "      <td>2</td>\n",
       "      <td>3</td>\n",
       "      <td>Joinville</td>\n",
       "      <td>Centro</td>\n",
       "      <td>0.290039</td>\n",
       "      <td>Normal</td>\n",
       "    </tr>\n",
       "    <tr>\n",
       "      <th>3</th>\n",
       "      <td>2020</td>\n",
       "      <td>1</td>\n",
       "      <td>Quarta</td>\n",
       "      <td>3</td>\n",
       "      <td>3</td>\n",
       "      <td>Joinville</td>\n",
       "      <td>Centro</td>\n",
       "      <td>0.180054</td>\n",
       "      <td>Normal</td>\n",
       "    </tr>\n",
       "    <tr>\n",
       "      <th>4</th>\n",
       "      <td>2020</td>\n",
       "      <td>1</td>\n",
       "      <td>Quarta</td>\n",
       "      <td>4</td>\n",
       "      <td>3</td>\n",
       "      <td>Joinville</td>\n",
       "      <td>Centro</td>\n",
       "      <td>0.580078</td>\n",
       "      <td>Alto</td>\n",
       "    </tr>\n",
       "  </tbody>\n",
       "</table>\n",
       "</div>"
      ],
      "text/plain": [
       "    ano  mes     dia  hora  quantidade_pessoas     cidade  bairro  \\\n",
       "0  2020    1  Quarta     0                   3  Joinville  Centro   \n",
       "1  2020    1  Quarta     1                   3  Joinville  Centro   \n",
       "2  2020    1  Quarta     2                   3  Joinville  Centro   \n",
       "3  2020    1  Quarta     3                   3  Joinville  Centro   \n",
       "4  2020    1  Quarta     4                   3  Joinville  Centro   \n",
       "\n",
       "   consumo_agua_m3 padrao_consumo  \n",
       "0         0.040009         Normal  \n",
       "1         0.260010         Normal  \n",
       "2         0.290039         Normal  \n",
       "3         0.180054         Normal  \n",
       "4         0.580078           Alto  "
      ]
     },
     "execution_count": 2,
     "metadata": {},
     "output_type": "execute_result"
    }
   ],
   "source": [
    "path = \"../data/dados_consumo_agua.pkl\"\n",
    "\n",
    "df = pd.read_pickle(path)\n",
    "df.head()"
   ]
  },
  {
   "cell_type": "code",
   "execution_count": 3,
   "metadata": {},
   "outputs": [
    {
     "data": {
      "text/plain": [
       "padrao_consumo\n",
       "Normal    0.794035\n",
       "Alto      0.205965\n",
       "Name: proportion, dtype: float64"
      ]
     },
     "execution_count": 3,
     "metadata": {},
     "output_type": "execute_result"
    }
   ],
   "source": [
    "df['padrao_consumo'].value_counts(normalize=True)"
   ]
  },
  {
   "cell_type": "markdown",
   "metadata": {},
   "source": [
    "### Pré-processamento"
   ]
  },
  {
   "cell_type": "code",
   "execution_count": 4,
   "metadata": {},
   "outputs": [
    {
     "name": "stdout",
     "output_type": "stream",
     "text": [
      "COLUNA: dia \n",
      "VALORES: ['Quarta', 'Quinta', 'Sexta', 'Sábado', 'Domingo', 'Segunda', 'Terça']\n",
      "COLUNA: cidade \n",
      "VALORES: ['Joinville']\n",
      "COLUNA: bairro \n",
      "VALORES: ['Centro']\n",
      "COLUNA: padrao_consumo \n",
      "VALORES: ['Normal', 'Alto']\n"
     ]
    }
   ],
   "source": [
    "# VERIFICANDO AS CLASSES ORIGINAIS\n",
    "column_list = [\n",
    "    \"dia\",\n",
    "    \"cidade\",\n",
    "    \"bairro\",\n",
    "    \"padrao_consumo\"\n",
    "]\n",
    "for colunm in column_list:\n",
    "    print(\"COLUNA:\", colunm, \"\\nVALORES:\", list(df[colunm].unique()), end = \"\\n\")"
   ]
  },
  {
   "cell_type": "code",
   "execution_count": 14,
   "metadata": {},
   "outputs": [
    {
     "name": "stdout",
     "output_type": "stream",
     "text": [
      "X_train shape: (11574, 7), y_train shape: (11574,)\n",
      "X_test shape: (7008, 7), y_test shape: (7008,)\n",
      "\n",
      " padrao_consumo\n",
      "Alto      0.5\n",
      "Normal    0.5\n",
      "Name: proportion, dtype: float64\n",
      "\n",
      " padrao_consumo\n",
      "Normal    0.795947\n",
      "Alto      0.204053\n",
      "Name: proportion, dtype: float64\n"
     ]
    }
   ],
   "source": [
    "# Divisão em features e labels\n",
    "X, y = df.drop(columns=[\"ano\", \"padrao_consumo\"]), df[\"padrao_consumo\"]\n",
    "\n",
    "# Divisão em treino e teste\n",
    "X_train, X_test, y_train, y_test = train_test_split(X, y, test_size=0.2)\n",
    "\n",
    "# Transformar variáveis categóricas em numéricas\n",
    "columns_category = X_train.select_dtypes(include=\"category\").columns\n",
    "\n",
    "arquivo_dia = open(\"../model/label_for_dia.sav\", \"wb\")\n",
    "arquivo_cidade = open(\"../model/label_for_cidade.sav\", \"wb\")\n",
    "arquivo_bairro = open(\"../model/label_for_dia.bairro.sav\", \"wb\")\n",
    "arquivo_padrao_consumo = open(\"../model/label_for_padrao_consumo.sav\", \"wb\")\n",
    "\n",
    "for column in columns_category:\n",
    "    le = LabelEncoder()\n",
    "    X_train[column] = le.fit_transform(X_train[column])\n",
    "    X_test[column] = le.transform(X_test[column])\n",
    "    \n",
    "    # SALVANDO OS LabelEncoder'S EM VARIOS ARQUIVOS .sav\n",
    "    match column:\n",
    "        case \"dia\":\n",
    "            pickle.dump(le, arquivo_dia)\n",
    "            arquivo_dia.close()\n",
    "        case \"cidade\":\n",
    "            pickle.dump(le, arquivo_cidade)\n",
    "            arquivo_cidade.close()\n",
    "        case \"bairro\":\n",
    "            pickle.dump(le, arquivo_bairro)\n",
    "            arquivo_bairro.close()\n",
    "        case _:\n",
    "            pickle.dump(le, arquivo_padrao_consumo)\n",
    "            arquivo_padrao_consumo.close()\n",
    "\n",
    "# Normalização\n",
    "scaler = StandardScaler()\n",
    "X_train = scaler.fit_transform(X_train)\n",
    "X_test = scaler.transform(X_test)\n",
    "\n",
    "# Balanceamento dos dados\n",
    "X_train, y_train = RandomUnderSampler().fit_resample(X_train, y_train)\n",
    "\n",
    "print(f'X_train shape: {X_train.shape}, y_train shape: {y_train.shape}')\n",
    "print(f'X_test shape: {X_test.shape}, y_test shape: {y_test.shape}')\n",
    "\n",
    "print(\"\\n\", y_train.value_counts(normalize=True))\n",
    "print(\"\\n\", y_test.value_counts(normalize=True))"
   ]
  },
  {
   "cell_type": "markdown",
   "metadata": {},
   "source": [
    "### Treinamento e avaliação dos modelos"
   ]
  },
  {
   "cell_type": "code",
   "execution_count": 6,
   "metadata": {},
   "outputs": [
    {
     "data": {
      "text/html": [
       "<div>\n",
       "<style scoped>\n",
       "    .dataframe tbody tr th:only-of-type {\n",
       "        vertical-align: middle;\n",
       "    }\n",
       "\n",
       "    .dataframe tbody tr th {\n",
       "        vertical-align: top;\n",
       "    }\n",
       "\n",
       "    .dataframe thead th {\n",
       "        text-align: right;\n",
       "    }\n",
       "</style>\n",
       "<table border=\"1\" class=\"dataframe\">\n",
       "  <thead>\n",
       "    <tr style=\"text-align: right;\">\n",
       "      <th></th>\n",
       "      <th>Model</th>\n",
       "      <th>Accuracy</th>\n",
       "      <th>Precision</th>\n",
       "      <th>Recall</th>\n",
       "      <th>F1</th>\n",
       "    </tr>\n",
       "  </thead>\n",
       "  <tbody>\n",
       "    <tr>\n",
       "      <th>0</th>\n",
       "      <td>RandomForest</td>\n",
       "      <td>99.286530</td>\n",
       "      <td>99.288378</td>\n",
       "      <td>99.286530</td>\n",
       "      <td>99.287258</td>\n",
       "    </tr>\n",
       "    <tr>\n",
       "      <th>1</th>\n",
       "      <td>SVC</td>\n",
       "      <td>95.476598</td>\n",
       "      <td>95.643066</td>\n",
       "      <td>95.476598</td>\n",
       "      <td>95.532307</td>\n",
       "    </tr>\n",
       "    <tr>\n",
       "      <th>2</th>\n",
       "      <td>KNN</td>\n",
       "      <td>97.188927</td>\n",
       "      <td>97.288380</td>\n",
       "      <td>97.188927</td>\n",
       "      <td>97.218293</td>\n",
       "    </tr>\n",
       "  </tbody>\n",
       "</table>\n",
       "</div>"
      ],
      "text/plain": [
       "          Model   Accuracy  Precision     Recall         F1\n",
       "0  RandomForest  99.286530  99.288378  99.286530  99.287258\n",
       "1           SVC  95.476598  95.643066  95.476598  95.532307\n",
       "2           KNN  97.188927  97.288380  97.188927  97.218293"
      ]
     },
     "execution_count": 6,
     "metadata": {},
     "output_type": "execute_result"
    }
   ],
   "source": [
    "models = [\n",
    "    RandomForestClassifier(),\n",
    "    SVC(),\n",
    "    KNeighborsClassifier()\n",
    "]\n",
    "\n",
    "accuracies = []\n",
    "precisions = []\n",
    "recalls = []\n",
    "f1s = []\n",
    "\n",
    "for model in models:\n",
    "    model.fit(X_train, y_train)\n",
    "    y_pred = model.predict(X_test)\n",
    "    \n",
    "    accuracies.append(accuracy_score(y_test, y_pred) * 100)\n",
    "    precisions.append(precision_score(y_test, y_pred, average=\"weighted\") * 100)\n",
    "    recalls.append(recall_score(y_test, y_pred, average=\"weighted\") * 100)\n",
    "    f1s.append(f1_score(y_test, y_pred, average=\"weighted\") * 100)\n",
    "\n",
    "df_score = pd.DataFrame({\n",
    "    \"Model\": [\"RandomForest\", \"SVC\", \"KNN\"],\n",
    "    \"Accuracy\": accuracies,\n",
    "    \"Precision\": precisions,\n",
    "    \"Recall\": recalls,\n",
    "    \"F1\": f1s\n",
    "})\n",
    "\n",
    "df_score"
   ]
  },
  {
   "cell_type": "markdown",
   "metadata": {},
   "source": [
    "### Salvar o modelo"
   ]
  },
  {
   "cell_type": "code",
   "execution_count": 7,
   "metadata": {},
   "outputs": [
    {
     "data": {
      "text/plain": [
       "['../model/random_forest.joblib']"
      ]
     },
     "execution_count": 7,
     "metadata": {},
     "output_type": "execute_result"
    }
   ],
   "source": [
    "dump(models[0], \"../model/random_forest.joblib\")"
   ]
  }
 ],
 "metadata": {
  "kernelspec": {
   "display_name": ".cepedi-venv",
   "language": "python",
   "name": "python3"
  },
  "language_info": {
   "codemirror_mode": {
    "name": "ipython",
    "version": 3
   },
   "file_extension": ".py",
   "mimetype": "text/x-python",
   "name": "python",
   "nbconvert_exporter": "python",
   "pygments_lexer": "ipython3",
   "version": "3.11.6"
  }
 },
 "nbformat": 4,
 "nbformat_minor": 2
}
